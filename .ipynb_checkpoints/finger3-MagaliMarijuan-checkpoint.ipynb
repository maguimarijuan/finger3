{
 "cells": [
  {
   "cell_type": "code",
   "execution_count": 1,
   "metadata": {},
   "outputs": [],
   "source": [
    "import pyspark\n",
    "from pyspark.sql import *\n",
    "try: \n",
    "    type(sc)\n",
    "except NameError:\n",
    "    sc = pyspark.SparkContext('local[*]')\n"
   ]
  },
  {
   "cell_type": "code",
   "execution_count": 25,
   "metadata": {},
   "outputs": [],
   "source": [
    "spark = SparkSession.builder.appName(\"finger3-magali-marijuan\").getOrCreate()\n",
    "\n",
    "flights = spark.read.load(\"data/flights.csv\",format=\"csv\", sep=\",\", inferSchema=\"true\", header=\"true\")\n",
    "airlines = spark.read.load(\"data/airlines.csv\",format=\"csv\", sep=\",\", inferSchema=\"true\", header=\"true\")\n",
    "airports = spark.read.load(\"data/airports.csv\",format=\"csv\", sep=\",\", inferSchema=\"true\", header=\"true\")\n",
    "# tengo que registrar el df:flights / airlines como una vista SQL temporal\n",
    "flights.createOrReplaceTempView(\"flights\")\n",
    "airlines.createOrReplaceTempView(\"airlines\")\n",
    "airports.createOrReplaceTempView(\"airports\")\n"
   ]
  },
  {
   "cell_type": "markdown",
   "metadata": {},
   "source": [
    "**Mostrar los 5 aeropuertos de origen que tienen mayor cantidad de cancelaciones**"
   ]
  },
  {
   "cell_type": "code",
   "execution_count": 28,
   "metadata": {},
   "outputs": [
    {
     "name": "stdout",
     "output_type": "stream",
     "text": [
      "La solución es:\n",
      "+--------------------+-----+\n",
      "|             AIRPORT|count|\n",
      "+--------------------+-----+\n",
      "|Chicago O'Hare In...| 8548|\n",
      "|Dallas/Fort Worth...| 6254|\n",
      "|LaGuardia Airport...| 4531|\n",
      "|Newark Liberty In...| 3110|\n",
      "|Gen. Edward Lawre...| 2654|\n",
      "+--------------------+-----+\n",
      "only showing top 5 rows\n",
      "\n"
     ]
    }
   ],
   "source": [
    "flightsCanceladosYOrigen = spark.sql('SELECT ORIGIN_AIRPORT FROM FLIGHTS WHERE CANCELLED >0')\n",
    "print(\"La solución es:\")\n",
    "#resuelvo utilizando elementos de la api. \n",
    "flightsCanceladosYOrigen = flightsCanceladosYOrigen.groupBy(\"ORIGIN_AIRPORT\").count().orderBy(\"COUNT\",ascending = False)\n",
    "flightsCanceladosYOrigen.createOrReplaceTempView(\"flightsCanceladosYOrigen\")\n",
    "flightsCanceladosYOrigen = spark.sql('FROM flightsCanceladosYOrigen JOIN airports WHERE flightsCanceladosYOrigen.ORIGIN_AIRPORT = airports.IATA_CODE')\n",
    "flightsCanceladosYOrigen.createOrReplaceTempView(\"flightsCanceladosYOrigen\")\n",
    "flightsCanceladosYorigen = spark.sql('SELECT AIRPORT, count FROM flightsCanceladosYorigen').show(5)\n",
    "#flightsCanceladosYOrigen.show(5)"
   ]
  },
  {
   "cell_type": "code",
   "execution_count": null,
   "metadata": {},
   "outputs": [],
   "source": [
    "flightsCanceladosYOrigen = spark.sql()"
   ]
  },
  {
   "cell_type": "markdown",
   "metadata": {},
   "source": [
    "**Mostrar el nombre de aerolíneas y la cantidad de vuelos desde Atlanta (ATL) a Los Ángeles (LAX)\n",
    "ordenadas cantidad de vuelos**"
   ]
  },
  {
   "cell_type": "code",
   "execution_count": 68,
   "metadata": {},
   "outputs": [
    {
     "name": "stdout",
     "output_type": "stream",
     "text": [
      "La solución es:\n",
      "+--------------------+-----+\n",
      "|             AIRLINE|COUNT|\n",
      "+--------------------+-----+\n",
      "|Delta Air Lines Inc.| 3624|\n",
      "|Southwest Airline...|  962|\n",
      "|American Airlines...|  765|\n",
      "|Frontier Airlines...|  215|\n",
      "|    Spirit Air Lines|  103|\n",
      "+--------------------+-----+\n",
      "\n"
     ]
    }
   ],
   "source": [
    "flightAerolineas = spark.sql('SELECT AIRLINE AS AIR FROM FLIGHTS WHERE ORIGIN_AIRPORT == \"ATL\" AND DESTINATION_AIRPORT == \"LAX\"')\n",
    "\n",
    "\n",
    "print(\"La solución es:\")\n",
    "flightAerolineas = flightAerolineas.groupBy(\"AIR\").count().orderBy(\"COUNT\",ascending = False)\n",
    "flightAerolineas.createOrReplaceTempView('flightAerolineas')\n",
    "flightAerolineas = spark.sql('FROM flightAerolineas JOIN airlines WHERE flightAerolineas.AIR = airlines.IATA_CODE')\n",
    "flightAerolineas.createOrReplaceTempView('flightAerolineas')\n",
    "flightAerolineas = spark.sql('SELECT AIRLINE, COUNT FROM flightAerolineas')\n",
    "flightAerolineas.show()"
   ]
  },
  {
   "cell_type": "markdown",
   "metadata": {},
   "source": [
    "**Mostrar y Analizar el Query Plan del punto 2 para entender las optimizaciones que realiza Catalyst Optimizer, contestando las siguientes preguntas:**\n",
    "    Catalyst Optimizer es el componente del framework de ejecución que se encarga de interpretar y optimizar, la query planteada, para despues llevarla a código en ejecución en el API de RDD.\n",
    "    -¿Se realiza alguna optimización lógica, como filter pushdown? ¿En qué etapa?\n",
    "    Si, se realiza filterpushdown antes del join. Para hacer un join con menos cantidad de datos. \n",
    "    -¿Que tipo de Join Físico se realiza? ¿En qué etapa?\n"
   ]
  },
  {
   "cell_type": "code",
   "execution_count": 69,
   "metadata": {},
   "outputs": [
    {
     "name": "stdout",
     "output_type": "stream",
     "text": [
      "== Parsed Logical Plan ==\n",
      "'Filter ('flightsCanceladosYOrigen.ORIGIN_AIRPORT = 'airports.IATA_CODE)\n",
      "+- 'Join Inner\n",
      "   :- 'UnresolvedRelation `flightsCanceladosYOrigen`\n",
      "   +- 'UnresolvedRelation `airports`\n",
      "\n",
      "== Analyzed Logical Plan ==\n",
      "ORIGIN_AIRPORT: string, count: bigint, IATA_CODE: string, AIRPORT: string, CITY: string, STATE: string, COUNTRY: string, LATITUDE: double, LONGITUDE: double, IATA_CODE: string, AIRPORT: string, CITY: string, STATE: string, COUNTRY: string, LATITUDE: double, LONGITUDE: double\n",
      "Filter (ORIGIN_AIRPORT#1293 = IATA_CODE#2150)\n",
      "+- Join Inner\n",
      "   :- SubqueryAlias flightscanceladosyorigen\n",
      "   :  +- Filter (ORIGIN_AIRPORT#1293 = IATA_CODE#1372)\n",
      "   :     +- Join Inner\n",
      "   :        :- SubqueryAlias flightscanceladosyorigen\n",
      "   :        :  +- Sort [COUNT#1503L DESC NULLS LAST], true\n",
      "   :        :     +- Aggregate [ORIGIN_AIRPORT#1293], [ORIGIN_AIRPORT#1293, count(1) AS count#1503L]\n",
      "   :        :        +- Project [ORIGIN_AIRPORT#1293]\n",
      "   :        :           +- Filter (CANCELLED#1310 > 0)\n",
      "   :        :              +- SubqueryAlias flights\n",
      "   :        :                 +- Relation[YEAR#1286,MONTH#1287,DAY#1288,DAY_OF_WEEK#1289,AIRLINE#1290,FLIGHT_NUMBER#1291,TAIL_NUMBER#1292,ORIGIN_AIRPORT#1293,DESTINATION_AIRPORT#1294,SCHEDULED_DEPARTURE#1295,DEPARTURE_TIME#1296,DEPARTURE_DELAY#1297,TAXI_OUT#1298,WHEELS_OFF#1299,SCHEDULED_TIME#1300,ELAPSED_TIME#1301,AIR_TIME#1302,DISTANCE#1303,WHEELS_ON#1304,TAXI_IN#1305,SCHEDULED_ARRIVAL#1306,ARRIVAL_TIME#1307,ARRIVAL_DELAY#1308,DIVERTED#1309,... 7 more fields] csv\n",
      "   :        +- SubqueryAlias airports\n",
      "   :           +- Relation[IATA_CODE#1372,AIRPORT#1373,CITY#1374,STATE#1375,COUNTRY#1376,LATITUDE#1377,LONGITUDE#1378] csv\n",
      "   +- SubqueryAlias airports\n",
      "      +- Relation[IATA_CODE#2150,AIRPORT#2151,CITY#2152,STATE#2153,COUNTRY#2154,LATITUDE#2155,LONGITUDE#2156] csv\n",
      "\n",
      "== Optimized Logical Plan ==\n",
      "Join Inner, (ORIGIN_AIRPORT#1293 = IATA_CODE#2150)\n",
      ":- Join Inner, (ORIGIN_AIRPORT#1293 = IATA_CODE#1372)\n",
      ":  :- Sort [COUNT#1503L DESC NULLS LAST], true\n",
      ":  :  +- Aggregate [ORIGIN_AIRPORT#1293], [ORIGIN_AIRPORT#1293, count(1) AS count#1503L]\n",
      ":  :     +- Project [ORIGIN_AIRPORT#1293]\n",
      ":  :        +- Filter ((isnotnull(CANCELLED#1310) && (CANCELLED#1310 > 0)) && isnotnull(ORIGIN_AIRPORT#1293))\n",
      ":  :           +- Relation[YEAR#1286,MONTH#1287,DAY#1288,DAY_OF_WEEK#1289,AIRLINE#1290,FLIGHT_NUMBER#1291,TAIL_NUMBER#1292,ORIGIN_AIRPORT#1293,DESTINATION_AIRPORT#1294,SCHEDULED_DEPARTURE#1295,DEPARTURE_TIME#1296,DEPARTURE_DELAY#1297,TAXI_OUT#1298,WHEELS_OFF#1299,SCHEDULED_TIME#1300,ELAPSED_TIME#1301,AIR_TIME#1302,DISTANCE#1303,WHEELS_ON#1304,TAXI_IN#1305,SCHEDULED_ARRIVAL#1306,ARRIVAL_TIME#1307,ARRIVAL_DELAY#1308,DIVERTED#1309,... 7 more fields] csv\n",
      ":  +- Filter isnotnull(IATA_CODE#1372)\n",
      ":     +- Relation[IATA_CODE#1372,AIRPORT#1373,CITY#1374,STATE#1375,COUNTRY#1376,LATITUDE#1377,LONGITUDE#1378] csv\n",
      "+- Filter isnotnull(IATA_CODE#2150)\n",
      "   +- Relation[IATA_CODE#2150,AIRPORT#2151,CITY#2152,STATE#2153,COUNTRY#2154,LATITUDE#2155,LONGITUDE#2156] csv\n",
      "\n",
      "== Physical Plan ==\n",
      "*(5) BroadcastHashJoin [ORIGIN_AIRPORT#1293], [IATA_CODE#2150], Inner, BuildRight\n",
      ":- *(5) BroadcastHashJoin [ORIGIN_AIRPORT#1293], [IATA_CODE#1372], Inner, BuildRight\n",
      ":  :- *(5) Sort [COUNT#1503L DESC NULLS LAST], true, 0\n",
      ":  :  +- Exchange rangepartitioning(COUNT#1503L DESC NULLS LAST, 200)\n",
      ":  :     +- *(2) HashAggregate(keys=[ORIGIN_AIRPORT#1293], functions=[count(1)], output=[ORIGIN_AIRPORT#1293, count#1503L])\n",
      ":  :        +- Exchange hashpartitioning(ORIGIN_AIRPORT#1293, 200)\n",
      ":  :           +- *(1) HashAggregate(keys=[ORIGIN_AIRPORT#1293], functions=[partial_count(1)], output=[ORIGIN_AIRPORT#1293, count#1526L])\n",
      ":  :              +- *(1) Project [ORIGIN_AIRPORT#1293]\n",
      ":  :                 +- *(1) Filter ((isnotnull(CANCELLED#1310) && (CANCELLED#1310 > 0)) && isnotnull(ORIGIN_AIRPORT#1293))\n",
      ":  :                    +- *(1) FileScan csv [ORIGIN_AIRPORT#1293,CANCELLED#1310] Batched: false, Format: CSV, Location: InMemoryFileIndex[file:/Users/magalimarijuan/Documents/OrgaDatos/Finger3/finger3/data/flights.csv], PartitionFilters: [], PushedFilters: [IsNotNull(CANCELLED), GreaterThan(CANCELLED,0), IsNotNull(ORIGIN_AIRPORT)], ReadSchema: struct<ORIGIN_AIRPORT:string,CANCELLED:int>\n",
      ":  +- BroadcastExchange HashedRelationBroadcastMode(List(input[0, string, true]))\n",
      ":     +- *(3) Project [IATA_CODE#1372, AIRPORT#1373, CITY#1374, STATE#1375, COUNTRY#1376, LATITUDE#1377, LONGITUDE#1378]\n",
      ":        +- *(3) Filter isnotnull(IATA_CODE#1372)\n",
      ":           +- *(3) FileScan csv [IATA_CODE#1372,AIRPORT#1373,CITY#1374,STATE#1375,COUNTRY#1376,LATITUDE#1377,LONGITUDE#1378] Batched: false, Format: CSV, Location: InMemoryFileIndex[file:/Users/magalimarijuan/Documents/OrgaDatos/Finger3/finger3/data/airports.csv], PartitionFilters: [], PushedFilters: [IsNotNull(IATA_CODE)], ReadSchema: struct<IATA_CODE:string,AIRPORT:string,CITY:string,STATE:string,COUNTRY:string,LATITUDE:double,LO...\n",
      "+- ReusedExchange [IATA_CODE#2150, AIRPORT#2151, CITY#2152, STATE#2153, COUNTRY#2154, LATITUDE#2155, LONGITUDE#2156], BroadcastExchange HashedRelationBroadcastMode(List(input[0, string, true]))\n"
     ]
    }
   ],
   "source": [
    "query = 'FROM flightsCanceladosYOrigen JOIN airports WHERE flightsCanceladosYOrigen.ORIGIN_AIRPORT = airports.IATA_CODE'\n",
    "spark.sql(query).explain(True)"
   ]
  },
  {
   "cell_type": "markdown",
   "metadata": {},
   "source": [
    "**Lo que se obtuvo de la linea anterior es:**\n",
    "...\n",
    "== Physical Plan ==\n",
    "*(5) BroadcastHashJoin [ORIGIN_AIRPORT#1293], [IATA_CODE#2150], Inner, BuildRight\n",
    ":- *(5) BroadcastHashJoin [ORIGIN_AIRPORT#1293], [IATA_CODE#1372], Inner, BuildRight\n",
    ":  :- *(5) Sort [COUNT#1503L DESC NULLS LAST], true, 0\n",
    ":  :  +- Exchange rangepartitioning(COUNT#1503L DESC NULLS LAST, 200)\n",
    ":  :     +- *(2) HashAggregate(keys=[ORIGIN_AIRPORT#1293], functions=[count(1)], output=[ORIGIN_AIRPORT#1293, count#1503L])\n",
    "...\n",
    "\n",
    "Entonces el join que se utiliza es: **BroadcastHashJoin**, en la etapa del physical plan."
   ]
  },
  {
   "cell_type": "code",
   "execution_count": null,
   "metadata": {},
   "outputs": [],
   "source": []
  }
 ],
 "metadata": {
  "kernelspec": {
   "display_name": "Python 3",
   "language": "python",
   "name": "python3"
  },
  "language_info": {
   "codemirror_mode": {
    "name": "ipython",
    "version": 3
   },
   "file_extension": ".py",
   "mimetype": "text/x-python",
   "name": "python",
   "nbconvert_exporter": "python",
   "pygments_lexer": "ipython3",
   "version": "3.6.5"
  }
 },
 "nbformat": 4,
 "nbformat_minor": 2
}
